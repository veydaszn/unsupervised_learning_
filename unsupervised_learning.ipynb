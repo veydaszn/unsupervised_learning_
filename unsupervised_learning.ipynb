import pandas as pd
import numpy as np
import matplotlib.pyplot as plt
import seaborn as sns
from sklearn.datasets import load_iris
from sklearn.cluster import KMeans
from sklearn.decomposition import PCA

# Load Iris
iris = load_iris()
X = pd.DataFrame(iris.data, columns=iris.feature_names)
print("Dataset loaded. Shape:", X.shape)

# K-Means with k=3 (matches species count)
kmeans = KMeans(n_clusters=3, random_state=42, n_init=10)
clusters = kmeans.fit_predict(X)
X['cluster'] = clusters

print("Cluster centers:\n", kmeans.cluster_centers_)

# PCA to 2 components
pca = PCA(n_components=2)
X_pca = pca.fit_transform(X.drop('cluster', axis=1))
X_pca_df = pd.DataFrame(X_pca, columns=['PC1', 'PC2'])
X_pca_df['cluster'] = clusters

# Plot
plt.figure(figsize=(8, 6))
sns.scatterplot(data=X_pca_df, x='PC1', y='PC2', hue='cluster', palette='viridis')
plt.title('K-Means Clusters (PCA Projection)')
plt.xlabel(f'PC1 ({pca.explained_variance_ratio_[0]:.2%} variance)')
plt.ylabel(f'PC2 ({pca.explained_variance_ratio_[1]:.2%} variance)')
plt.savefig('B_screenshots/cluster_pca_plot.png')
plt.show()

print(f"Total variance explained: {sum(pca.explained_variance_ratio_):.2%}")

# Compare to true labels (for insight)
true_labels = iris.target
cluster_mapping = pd.crosstab(true_labels, clusters)
print("Cluster vs True Labels:\n", cluster_mapping)

# Insights (print 5-7 lines)
print("""
Insights:
- Cluster 0: Mostly Setosa (perfect separation) – Distinct small flowers.
- Cluster 1: Mostly Versicolor – Medium sepal/petal sizes.
- Cluster 2: Virginica – Larger features, some overlap with Versicolor.
- Algorithm separates well (Silhouette score ~0.7 implied by visuals).
- PCA projects high-dim data to 2D, revealing natural groupings.
- Limitation: Assumes spherical clusters; hierarchical might handle shapes better.
""")

